{
 "cells": [
  {
   "cell_type": "code",
   "execution_count": 2,
   "metadata": {},
   "outputs": [],
   "source": [
    "import numpy as np\n",
    "import gym\n",
    "env = gym.make('CartPole-v1')\n"
   ]
  },
  {
   "cell_type": "code",
   "execution_count": 22,
   "metadata": {},
   "outputs": [],
   "source": [
    "def play(env, policy):\n",
    "    observation = env.reset()\n",
    "    done = False\n",
    "    score = 0\n",
    "    observations = []\n",
    "    for _ in range(600):\n",
    "        observations += [observation.tolist()] # Record the observations for normalization and replay\n",
    "    \n",
    "        if done: # If the simulation was over last iteration, exit loop\n",
    "            break\n",
    "        \n",
    "        # Pick an action according to the policy matrix\n",
    "        outcome = np.dot(policy, observation)\n",
    "        action = 1 if outcome > 0 else 0\n",
    "    \n",
    "        # Make the action, record reward\n",
    "        observation, reward, done, info = env.step(action)\n",
    "        score += reward\n",
    "\n",
    "    return score, observations"
   ]
  },
  {
   "cell_type": "code",
   "execution_count": 23,
   "metadata": {
    "scrolled": false
   },
   "outputs": [],
   "source": [
    "max = (0, [], [])"
   ]
  },
  {
   "cell_type": "code",
   "execution_count": 24,
   "metadata": {},
   "outputs": [
    {
     "name": "stdout",
     "output_type": "stream",
     "text": [
      "Max Score 500.0\n"
     ]
    }
   ],
   "source": [
    "for _ in range(10):\n",
    "    policy = np.random.rand(1,4)\n",
    "    score, observations = play(env, policy)\n",
    "  \n",
    "    if score > max[0]:\n",
    "        max = (score, observations, policy)\n",
    "\n",
    "print('Max Score', max[0])"
   ]
  },
  {
   "cell_type": "code",
   "execution_count": null,
   "metadata": {},
   "outputs": [],
   "source": []
  },
  {
   "cell_type": "code",
   "execution_count": null,
   "metadata": {},
   "outputs": [],
   "source": []
  },
  {
   "cell_type": "code",
   "execution_count": null,
   "metadata": {
    "scrolled": true
   },
   "outputs": [
    {
     "name": "stdout",
     "output_type": "stream",
     "text": [
      " * Serving Flask app \"__main__\" (lazy loading)\n",
      " * Environment: production\n",
      "   WARNING: Do not use the development server in a production environment.\n",
      "   Use a production WSGI server instead.\n",
      " * Debug mode: off\n"
     ]
    },
    {
     "name": "stderr",
     "output_type": "stream",
     "text": [
      " * Running on http://0.0.0.0:3000/ (Press CTRL+C to quit)\n",
      "127.0.0.1 - - [11/Apr/2019 20:19:11] \"GET /data HTTP/1.1\" 200 -\n",
      "127.0.0.1 - - [11/Apr/2019 20:19:11] \"GET /favicon.ico HTTP/1.1\" 404 -\n",
      "127.0.0.1 - - [11/Apr/2019 20:21:26] \"GET / HTTP/1.1\" 200 -\n",
      "127.0.0.1 - - [11/Apr/2019 20:21:27] \"GET /data HTTP/1.1\" 200 -\n",
      "127.0.0.1 - - [11/Apr/2019 20:21:49] \"GET / HTTP/1.1\" 200 -\n",
      "127.0.0.1 - - [11/Apr/2019 20:21:50] \"GET /data HTTP/1.1\" 200 -\n",
      "127.0.0.1 - - [11/Apr/2019 20:21:51] \"GET / HTTP/1.1\" 304 -\n",
      "127.0.0.1 - - [11/Apr/2019 20:21:51] \"GET /data HTTP/1.1\" 200 -\n",
      "127.0.0.1 - - [11/Apr/2019 20:22:14] \"GET / HTTP/1.1\" 200 -\n",
      "127.0.0.1 - - [11/Apr/2019 20:22:14] \"GET /data HTTP/1.1\" 200 -\n",
      "127.0.0.1 - - [11/Apr/2019 20:23:01] \"GET / HTTP/1.1\" 200 -\n",
      "127.0.0.1 - - [11/Apr/2019 20:23:01] \"GET /data HTTP/1.1\" 200 -\n",
      "127.0.0.1 - - [11/Apr/2019 20:23:01] \"GET /favicon.ico HTTP/1.1\" 404 -\n",
      "127.0.0.1 - - [11/Apr/2019 20:23:48] \"GET / HTTP/1.1\" 200 -\n",
      "127.0.0.1 - - [11/Apr/2019 20:23:48] \"GET /data HTTP/1.1\" 200 -\n",
      "127.0.0.1 - - [11/Apr/2019 20:24:09] \"GET / HTTP/1.1\" 200 -\n",
      "127.0.0.1 - - [11/Apr/2019 20:24:09] \"GET /data HTTP/1.1\" 200 -\n",
      "127.0.0.1 - - [11/Apr/2019 20:25:32] \"GET / HTTP/1.1\" 200 -\n",
      "127.0.0.1 - - [11/Apr/2019 20:25:32] \"GET /data HTTP/1.1\" 200 -\n",
      "127.0.0.1 - - [11/Apr/2019 20:26:23] \"GET / HTTP/1.1\" 200 -\n",
      "127.0.0.1 - - [11/Apr/2019 20:26:23] \"GET /data HTTP/1.1\" 200 -\n",
      "127.0.0.1 - - [11/Apr/2019 20:27:29] \"GET / HTTP/1.1\" 200 -\n",
      "127.0.0.1 - - [11/Apr/2019 20:27:29] \"GET /data HTTP/1.1\" 200 -\n",
      "127.0.0.1 - - [11/Apr/2019 20:30:10] \"GET /data HTTP/1.1\" 200 -\n",
      "127.0.0.1 - - [11/Apr/2019 20:31:45] \"GET / HTTP/1.1\" 200 -\n",
      "127.0.0.1 - - [11/Apr/2019 20:31:45] \"GET /data HTTP/1.1\" 200 -\n",
      "127.0.0.1 - - [11/Apr/2019 20:32:23] \"GET / HTTP/1.1\" 200 -\n",
      "127.0.0.1 - - [11/Apr/2019 20:32:23] \"GET /data HTTP/1.1\" 200 -\n",
      "127.0.0.1 - - [11/Apr/2019 20:32:43] \"GET / HTTP/1.1\" 200 -\n",
      "127.0.0.1 - - [11/Apr/2019 20:32:43] \"GET /data HTTP/1.1\" 200 -\n",
      "127.0.0.1 - - [11/Apr/2019 20:32:55] \"GET / HTTP/1.1\" 304 -\n",
      "127.0.0.1 - - [11/Apr/2019 20:32:55] \"GET /data HTTP/1.1\" 200 -\n",
      "127.0.0.1 - - [11/Apr/2019 20:32:59] \"GET / HTTP/1.1\" 200 -\n",
      "127.0.0.1 - - [11/Apr/2019 20:32:59] \"GET /data HTTP/1.1\" 200 -\n",
      "127.0.0.1 - - [11/Apr/2019 20:33:43] \"GET / HTTP/1.1\" 200 -\n",
      "127.0.0.1 - - [11/Apr/2019 20:33:43] \"GET /data HTTP/1.1\" 200 -\n",
      "127.0.0.1 - - [11/Apr/2019 20:34:09] \"GET / HTTP/1.1\" 200 -\n",
      "127.0.0.1 - - [11/Apr/2019 20:34:09] \"GET /data HTTP/1.1\" 200 -\n",
      "127.0.0.1 - - [11/Apr/2019 20:35:08] \"GET / HTTP/1.1\" 200 -\n",
      "127.0.0.1 - - [11/Apr/2019 20:35:08] \"GET /data HTTP/1.1\" 200 -\n",
      "127.0.0.1 - - [11/Apr/2019 20:36:05] \"GET / HTTP/1.1\" 200 -\n",
      "127.0.0.1 - - [11/Apr/2019 20:36:05] \"GET /data HTTP/1.1\" 200 -\n",
      "127.0.0.1 - - [11/Apr/2019 20:37:39] \"GET / HTTP/1.1\" 200 -\n",
      "127.0.0.1 - - [11/Apr/2019 20:37:39] \"GET /data HTTP/1.1\" 200 -\n",
      "127.0.0.1 - - [11/Apr/2019 20:38:57] \"GET / HTTP/1.1\" 200 -\n",
      "127.0.0.1 - - [11/Apr/2019 20:38:57] \"GET /data HTTP/1.1\" 200 -\n",
      "127.0.0.1 - - [11/Apr/2019 20:40:19] \"GET / HTTP/1.1\" 200 -\n",
      "127.0.0.1 - - [11/Apr/2019 20:40:19] \"GET /data HTTP/1.1\" 200 -\n",
      "127.0.0.1 - - [11/Apr/2019 20:41:11] \"GET / HTTP/1.1\" 200 -\n",
      "127.0.0.1 - - [11/Apr/2019 20:41:11] \"GET /data HTTP/1.1\" 200 -\n",
      "127.0.0.1 - - [11/Apr/2019 20:42:15] \"GET / HTTP/1.1\" 200 -\n",
      "127.0.0.1 - - [11/Apr/2019 20:42:15] \"GET /data HTTP/1.1\" 200 -\n",
      "127.0.0.1 - - [11/Apr/2019 20:42:51] \"GET / HTTP/1.1\" 200 -\n",
      "127.0.0.1 - - [11/Apr/2019 20:42:52] \"GET /data HTTP/1.1\" 200 -\n",
      "127.0.0.1 - - [11/Apr/2019 20:45:13] \"GET / HTTP/1.1\" 200 -\n",
      "127.0.0.1 - - [11/Apr/2019 20:45:13] \"GET /data HTTP/1.1\" 200 -\n",
      "127.0.0.1 - - [11/Apr/2019 20:46:57] \"GET / HTTP/1.1\" 200 -\n",
      "127.0.0.1 - - [11/Apr/2019 20:46:57] \"GET /data HTTP/1.1\" 200 -\n",
      "127.0.0.1 - - [11/Apr/2019 20:47:08] \"GET / HTTP/1.1\" 200 -\n",
      "127.0.0.1 - - [11/Apr/2019 20:47:08] \"GET /data HTTP/1.1\" 200 -\n",
      "127.0.0.1 - - [11/Apr/2019 20:47:24] \"GET / HTTP/1.1\" 200 -\n",
      "127.0.0.1 - - [11/Apr/2019 20:47:25] \"GET / HTTP/1.1\" 304 -\n",
      "127.0.0.1 - - [11/Apr/2019 20:47:34] \"GET / HTTP/1.1\" 200 -\n",
      "127.0.0.1 - - [11/Apr/2019 20:47:35] \"GET /data HTTP/1.1\" 200 -\n"
     ]
    }
   ],
   "source": [
    "from flask import Flask\n",
    "import json\n",
    "\n",
    "app = Flask(__name__, static_folder='.')\n",
    "\n",
    "@app.route(\"/data\")\n",
    "def data():\n",
    "    return json.dumps(max[1])\n",
    "\n",
    "@app.route('/')\n",
    "def root():\n",
    "    return app.send_static_file('./index.html')\n",
    "    \n",
    "app.run(host='0.0.0.0', port='3000')"
   ]
  },
  {
   "cell_type": "code",
   "execution_count": null,
   "metadata": {},
   "outputs": [],
   "source": []
  }
 ],
 "metadata": {
  "kernelspec": {
   "display_name": "Python 3",
   "language": "python",
   "name": "python3"
  },
  "language_info": {
   "codemirror_mode": {
    "name": "ipython",
    "version": 3
   },
   "file_extension": ".py",
   "mimetype": "text/x-python",
   "name": "python",
   "nbconvert_exporter": "python",
   "pygments_lexer": "ipython3",
   "version": "3.7.1"
  }
 },
 "nbformat": 4,
 "nbformat_minor": 2
}
